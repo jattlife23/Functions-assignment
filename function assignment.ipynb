{
 "cells": [
  {
   "cell_type": "markdown",
   "id": "7381a63c-5c87-4c3a-829f-52db14508adc",
   "metadata": {},
   "source": [
    "# Theory Questions :-"
   ]
  },
  {
   "cell_type": "markdown",
   "id": "d1c3f85f-3728-49ad-9813-90211468325b",
   "metadata": {},
   "source": [
    "## 1. What is the difference between a function and a method in Python ?"
   ]
  },
  {
   "cell_type": "markdown",
   "id": "b917893e-f949-4bb7-ad3d-dd1f3cca8f73",
   "metadata": {},
   "source": [
    "#### In Python, the difference between a function and a method is primarily based on where and how they are used:\n"
   ]
  },
  {
   "cell_type": "markdown",
   "id": "26f5571b-7620-446c-b3d1-d84cd54858fa",
   "metadata": {},
   "source": [
    "#### i. Function \n",
    "   - A function is a standalone block of code that performs a specific task.\n",
    "   - It can be called independently without being associated with any object.\n",
    "   - Functions are defined using the def keyword.\n",
    "   - Example :-\n"
   ]
  },
  {
   "cell_type": "code",
   "execution_count": 9,
   "id": "7279ff77-3002-4be9-8ba1-83e6d88fc7d1",
   "metadata": {},
   "outputs": [
    {
     "name": "stdout",
     "output_type": "stream",
     "text": [
      "This is a function.\n"
     ]
    }
   ],
   "source": [
    "\n",
    "     def my_function():\n",
    "         print(\"This is a function.\")\n",
    "     my_function()  # Call the function\n"
   ]
  },
  {
   "cell_type": "markdown",
   "id": "e5abdaeb-ca48-45fc-85a8-0a824d9bf62c",
   "metadata": {},
   "source": [
    "#### ii. Method"
   ]
  },
  {
   "cell_type": "markdown",
   "id": "13abb3b2-436d-4745-aa1e-c24e216e0662",
   "metadata": {},
   "source": [
    "   - A method is a function that is associated with an object or class.\n",
    "   - It can only be called on an object (an instance of a class) and typically operates on the data within that object.\n",
    "   - Methods are also defined using the def keyword, but inside a class definition.\n",
    "   - Example:\n"
   ]
  },
  {
   "cell_type": "code",
   "execution_count": 18,
   "id": "8edc2e91-810b-4fb8-b8eb-ec631d1831e3",
   "metadata": {},
   "outputs": [
    {
     "name": "stdout",
     "output_type": "stream",
     "text": [
      "This is a method.\n"
     ]
    }
   ],
   "source": [
    "     class MyClass:\n",
    "         def my_method(self):\n",
    "             print(\"This is a method.\")\n",
    "     obj = MyClass()  # Create an object of MyClass\n",
    "     obj.my_method()  # Call the method on the object\n",
    "\n"
   ]
  },
  {
   "cell_type": "markdown",
   "id": "14ec8b12-e50e-41cd-a487-9ed85bf0be64",
   "metadata": {},
   "source": [
    "### Summary:\n",
    "- A *function* is independent and can be called by its name.\n",
    "- A *method* is associated with an object and requires an instance of a class to be called."
   ]
  },
  {
   "cell_type": "markdown",
   "id": "815c2562-f9dc-4d3a-be67-39e491f0bf71",
   "metadata": {},
   "source": [
    "## 2. Explain the concept of function arguements and parameters in Python."
   ]
  },
  {
   "cell_type": "markdown",
   "id": "73d4edcb-c872-4214-ab68-08624f7674b5",
   "metadata": {},
   "source": [
    "Function arguments and parameters are fundamental concepts used when defining and calling functions :-"
   ]
  },
  {
   "cell_type": "markdown",
   "id": "2d71691a-aad4-4ad6-9753-3d7ab672d60f",
   "metadata": {},
   "source": [
    "#### 1. Parameters:\n",
    "   - Parameters are the names specified in the function definition that act as placeholders for the values that will be passed to the function. They define what kind of input a function expects when it's called.\n",
    "   - For example:"
   ]
  },
  {
   "cell_type": "code",
   "execution_count": 40,
   "id": "0ef5e12b-2d78-4247-b863-91d5a351a8af",
   "metadata": {},
   "outputs": [
    {
     "name": "stdout",
     "output_type": "stream",
     "text": [
      "Hello, Saumya\n"
     ]
    }
   ],
   "source": [
    "def greet(name):  # 'name' is a parameter\n",
    "    print(f\"Hello, {name}\")\n",
    "greet(\"Saumya\")\n",
    "         "
   ]
  },
  {
   "cell_type": "markdown",
   "id": "098ebd08-d660-4836-bedc-c8c4ca2ae4c4",
   "metadata": {},
   "source": [
    "#### 2. Arguments:\n",
    "   - Arguments are the actual values or data you pass to a function when calling it. They replace the parameters in the function definition.\n",
    "   - For example:\n",
    "     python\n",
    "     greet(\"Saumya\")  # 'Saumya' is the argument passed to the function\n",
    "     \n",
    "   - Here, \"Saumya\" replaces the name parameter when the function greet is called"
   ]
  },
  {
   "cell_type": "markdown",
   "id": "6922d6eb-da5b-4ed8-bd7c-9326e77df3ef",
   "metadata": {},
   "source": [
    "#### Types of Arguments:\n",
    "   Python allows various ways to pass arguments into functions:\n"
   ]
  },
  {
   "cell_type": "markdown",
   "id": "cc794e91-2f86-4939-bbb0-3084dfacac1e",
   "metadata": {},
   "source": [
    "#### i. Positional Arguments :\n",
    "      - These are passed to the function in the order they are defined "
   ]
  },
  {
   "cell_type": "code",
   "execution_count": 56,
   "id": "88dfa55c-9b29-4cf1-9570-6014d4aec1b0",
   "metadata": {},
   "outputs": [
    {
     "name": "stdout",
     "output_type": "stream",
     "text": [
      "15\n"
     ]
    }
   ],
   "source": [
    "def add(a, b):\n",
    "    return a + b\n",
    "result = add(5, 10)  # 5 is passed to 'a' and 10 to 'b'\n",
    "print(result)"
   ]
  },
  {
   "cell_type": "markdown",
   "id": "830a7bdf-1758-425f-b043-16413fe5418a",
   "metadata": {},
   "source": [
    "#### ii. Keyword Arguments:\n",
    "      - These are passed by explicitly naming the parameter.\n"
   ]
  },
  {
   "cell_type": "code",
   "execution_count": 59,
   "id": "90c945f6-1cdb-4a9c-907e-d0df2e2eb0ee",
   "metadata": {},
   "outputs": [
    {
     "name": "stdout",
     "output_type": "stream",
     "text": [
      "Saumya is 21 years old.\n"
     ]
    }
   ],
   "source": [
    "        def introduce(name, age):\n",
    "            print(f\"{name} is {age} years old.\")\n",
    "        introduce(\"Saumya\", \"21\")\n"
   ]
  },
  {
   "cell_type": "markdown",
   "id": "0455e78d-fb65-488f-9d03-6bbf472ca4f1",
   "metadata": {},
   "source": [
    "#### iii. Default Arguments:\n",
    "      - Parameters can have default values, which are used if no argument is provided during the function call.\n"
   ]
  },
  {
   "cell_type": "code",
   "execution_count": 62,
   "id": "11210b77-57f8-4631-a281-e570d082f60c",
   "metadata": {},
   "outputs": [
    {
     "name": "stdout",
     "output_type": "stream",
     "text": [
      "Hello, Guest\n",
      "Hello, Saumya\n"
     ]
    }
   ],
   "source": [
    "        def greet(name=\"Guest\"):\n",
    "            print(f\"Hello, {name}\")\n",
    "        greet()  # Output: Hello, Guest\n",
    "        greet(\"Saumya\")  # Output: Hello, Saumya\n"
   ]
  },
  {
   "cell_type": "markdown",
   "id": "45165ce0-31fd-4c18-8230-80b46437819e",
   "metadata": {},
   "source": [
    "#### iv. Arbitrary Arguments (args):\n",
    "      - Allows you to pass a variable number of positional arguments. These arguments are accessible as a tuple.\n"
   ]
  },
  {
   "cell_type": "code",
   "execution_count": 65,
   "id": "9b59a9a2-49be-4905-a4f7-77844ca67e1c",
   "metadata": {},
   "outputs": [
    {
     "name": "stdout",
     "output_type": "stream",
     "text": [
      "10\n"
     ]
    }
   ],
   "source": [
    "        def sum_numbers(*args):\n",
    "            return sum(args)\n",
    "        print(sum_numbers(1, 2, 3, 4))  # Output: 10"
   ]
  },
  {
   "cell_type": "markdown",
   "id": "44a3008f-1035-4760-8657-0257342e8837",
   "metadata": {},
   "source": [
    "#### v. Arbitrary Keyword Arguments (kwargs):\n",
    "      - Allows you to pass a variable number of keyword arguments. These arguments are accessible as a dictionary.\n"
   ]
  },
  {
   "cell_type": "code",
   "execution_count": 68,
   "id": "1cf6b6d8-21c5-4e8b-b394-493ee29e8bec",
   "metadata": {},
   "outputs": [
    {
     "name": "stdout",
     "output_type": "stream",
     "text": [
      "name: Saumya\n",
      "age: 21\n",
      "city: Nainital\n"
     ]
    }
   ],
   "source": [
    "        def print_info(**kwargs):\n",
    "            for key, value in kwargs.items():\n",
    "                print(f\"{key}: {value}\")\n",
    "        print_info(name=\"Saumya\", age=21, city=\"Nainital\")\n"
   ]
  },
  {
   "cell_type": "markdown",
   "id": "732fce36-fe20-4308-a29f-f31b0a1cc4b5",
   "metadata": {},
   "source": [
    "## 3. What are the different ways to define in call of function in Python ?"
   ]
  },
  {
   "cell_type": "markdown",
   "id": "719a7e5c-e936-423b-a551-bec262d44442",
   "metadata": {},
   "source": [
    "#### In Python, you can define and call a function in several ways. Here are the common types of function definitions and calls:\n"
   ]
  },
  {
   "cell_type": "markdown",
   "id": "fef8bf31-4f12-479f-8b5b-ae2f0652c634",
   "metadata": {},
   "source": [
    "#### i. Standard Function Definition\n",
    "   - This is the most common way to define and call a function."
   ]
  },
  {
   "cell_type": "code",
   "execution_count": 76,
   "id": "b4edee64-1397-43e6-a772-6b918d0e85a8",
   "metadata": {},
   "outputs": [
    {
     "data": {
      "text/plain": [
       "'Hello, Saumya!'"
      ]
     },
     "execution_count": 76,
     "metadata": {},
     "output_type": "execute_result"
    }
   ],
   "source": [
    "   def greet(name):\n",
    "       return f\"Hello, {name}!\"  # Call\n",
    "   greet(\"Saumya\")"
   ]
  },
  {
   "cell_type": "markdown",
   "id": "6983a9cd-5eb9-40f9-997b-3e2ddf03772f",
   "metadata": {},
   "source": [
    "#### ii. Function with Default Arguments\n",
    "   - You can assign default values to function parameters.\n"
   ]
  },
  {
   "cell_type": "code",
   "execution_count": 82,
   "id": "253434cc-9ccd-4a92-827b-2eca10265a0d",
   "metadata": {},
   "outputs": [
    {
     "data": {
      "text/plain": [
       "'Hello, Saumya!'"
      ]
     },
     "execution_count": 82,
     "metadata": {},
     "output_type": "execute_result"
    }
   ],
   "source": [
    "   def greet(name=\"Guest\"):\n",
    "       return f\"Hello, {name}!\"\n",
    "   greet() # Call with no argument\n",
    "   greet(\"Saumya\")  # Call with argument\n"
   ]
  },
  {
   "cell_type": "markdown",
   "id": "32c19cb1-9136-4c92-bf31-c47c8807d8c2",
   "metadata": {},
   "source": [
    "#### iii. Function with Arbitrary Arguments (*args)\n",
    "   - If you don't know how many arguments will be passed, use *args to capture multiple positional arguments."
   ]
  },
  {
   "cell_type": "code",
   "execution_count": 96,
   "id": "2ed244be-e13c-4525-b016-f757e93c991c",
   "metadata": {},
   "outputs": [
    {
     "data": {
      "text/plain": [
       "'Hello, Alice, Bob, Charlie!'"
      ]
     },
     "execution_count": 96,
     "metadata": {},
     "output_type": "execute_result"
    }
   ],
   "source": [
    "   def greet(*names):\n",
    "       return f\"Hello, {', '.join(names)}!\"\n",
    "\n",
    "   greet(\"Alice\", \"Bob\", \"Charlie\") # Call with multiple argument\n"
   ]
  },
  {
   "cell_type": "markdown",
   "id": "e0213980-13e7-4635-96d4-c891ee0f9dbf",
   "metadata": {},
   "source": [
    "#### iv. Function with Arbitrary Keyword Arguments (**kwargs)\n",
    "   - You can capture a variable number of keyword arguments with **kwargs.\n",
    "   python"
   ]
  },
  {
   "cell_type": "code",
   "execution_count": 101,
   "id": "02264cdd-142c-460b-a097-cac57b2214a2",
   "metadata": {},
   "outputs": [
    {
     "data": {
      "text/plain": [
       "'Hello, Alice from New York!'"
      ]
     },
     "execution_count": 101,
     "metadata": {},
     "output_type": "execute_result"
    }
   ],
   "source": [
    "   def greet(**info):\n",
    "       return f\"Hello, {info['name']} from {info['city']}!\"\n",
    "\n",
    "   greet(name=\"Alice\", city=\"New York\") # Call with keyword arguments\n"
   ]
  },
  {
   "cell_type": "markdown",
   "id": "e25fec28-aa4b-4725-8568-7b79cee96dda",
   "metadata": {},
   "source": [
    "#### v. Lambda Functions (Anonymous Functions)\n",
    "   - These are small, unnamed functions defined using the lambda keyword.\n"
   ]
  },
  {
   "cell_type": "code",
   "execution_count": 105,
   "id": "b081c822-1adf-4a71-b221-d6c901f87890",
   "metadata": {},
   "outputs": [
    {
     "data": {
      "text/plain": [
       "8"
      ]
     },
     "execution_count": 105,
     "metadata": {},
     "output_type": "execute_result"
    }
   ],
   "source": [
    "   add = lambda x, y: x + y  # Lambda function for addition\n",
    "   add(3, 5)  # Call\n"
   ]
  },
  {
   "cell_type": "markdown",
   "id": "178b33af-02ba-4a31-be32-adbc2fa4832f",
   "metadata": {},
   "source": [
    "#### vi. *Nested Functions*\n",
    "   - You can define functions within other functions.\n"
   ]
  },
  {
   "cell_type": "code",
   "execution_count": 108,
   "id": "83bd2828-46c1-459c-919e-93c77ba54265",
   "metadata": {},
   "outputs": [
    {
     "data": {
      "text/plain": [
       "'Hello from inner function!'"
      ]
     },
     "execution_count": 108,
     "metadata": {},
     "output_type": "execute_result"
    }
   ],
   "source": [
    "   def outer():\n",
    "       def inner():\n",
    "           return \"Hello from inner function!\"\n",
    "       return inner()\n",
    "   outer()  # Call\n"
   ]
  },
  {
   "cell_type": "markdown",
   "id": "e328382b-c05c-40bb-a52d-651ed02c33ed",
   "metadata": {},
   "source": [
    "#### vii. Recursion (A Function Calling Itself)\n",
    "   - A function can call itself to solve smaller instances of the same problem.\n"
   ]
  },
  {
   "cell_type": "code",
   "execution_count": 112,
   "id": "f11368ff-e915-4151-b06b-c7eb7c1c50b1",
   "metadata": {},
   "outputs": [
    {
     "data": {
      "text/plain": [
       "120"
      ]
     },
     "execution_count": 112,
     "metadata": {},
     "output_type": "execute_result"
    }
   ],
   "source": [
    "   def factorial(n):\n",
    "       if n == 1:\n",
    "           return 1\n",
    "       return n * factorial(n - 1)\n",
    "   factorial(5) # Call\n"
   ]
  },
  {
   "cell_type": "markdown",
   "id": "0b035f62-5476-4d36-80af-6a5f17388d7c",
   "metadata": {},
   "source": [
    "#### viii. First-Class Functions (Passing Functions as Arguments)\n",
    "   - Functions can be passed as arguments to other functions.\n"
   ]
  },
  {
   "cell_type": "code",
   "execution_count": 117,
   "id": "fc97c194-77ab-46f4-985f-b184dcc48140",
   "metadata": {},
   "outputs": [
    {
     "data": {
      "text/plain": [
       "'Hello, Saumya!'"
      ]
     },
     "execution_count": 117,
     "metadata": {},
     "output_type": "execute_result"
    }
   ],
   "source": [
    "   def greet(name):\n",
    "       return f\"Hello, {name}!\"\n",
    "\n",
    "   def call_func(func, name):\n",
    "       return func(name)\n",
    "       \n",
    "   call_func(greet, \"Saumya\")  # Call\n"
   ]
  },
  {
   "cell_type": "markdown",
   "id": "b73e8369-38f0-4347-8982-a4efc82b70a8",
   "metadata": {},
   "source": [
    "## 4. What is the purpose of the 'return' statement in a Python function ?"
   ]
  },
  {
   "cell_type": "markdown",
   "id": "8c95db81-2170-4000-9ff5-1e9e56d2c7c3",
   "metadata": {},
   "source": [
    "#### The return statement in a Python function serves several purposes:\n",
    "\n",
    "i. Exiting the function:\n",
    "When a return statement is encountered, the function execution stops, and control is returned to the caller.\n",
    "\n",
    "ii. Returning a value:\n",
    "The return statement can pass a value back to the caller, allowing the function to provide a result or output.\n",
    "\n",
    "iii. Specifying the function's output type: \n",
    "By using return, you can indicate the type of value a function is expected to return, making your code more readable and maintainable.\n",
    "\n",
    "iv. Allowing function chaining: \n",
    "By returning a value, you can chain function calls together, enabling more concise and expressive code.\n",
    "\n",
    "v. Enabling recursion:\n",
    "The return statement is essential for recursive functions, as it allows them to return values from recursive calls.\n",
    "\n",
    "\n",
    "In summary, the return statement is crucial for controlling the flow of your program, providing output values, and enabling more advanced programming techniques like recursion and function chaining.\n",
    "\n"
   ]
  },
  {
   "cell_type": "code",
   "execution_count": 124,
   "id": "492eb9a5-3743-4930-9bb0-6dbec9fe0b61",
   "metadata": {},
   "outputs": [
    {
     "name": "stdout",
     "output_type": "stream",
     "text": [
      "8\n"
     ]
    }
   ],
   "source": [
    "def add(a, b):\n",
    "    return a + b\n",
    "result = add(3, 5)\n",
    "print(result)  # Output: 8\n",
    "## In this example, the return statement passes the result of the addition back to the caller, allowing the result to be printed\n"
   ]
  },
  {
   "cell_type": "markdown",
   "id": "c6c74d11-e12b-4963-9375-696404dd50d9",
   "metadata": {},
   "source": [
    "## 5. What are the iterators in Python and how do they differ from iterables ?"
   ]
  },
  {
   "cell_type": "markdown",
   "id": "db8e9caa-6591-4a38-9b75-787e7c5a345c",
   "metadata": {},
   "source": [
    "#### In Python, iterables are objects that can be iterated over, such as lists, tuples, dictionaries, sets, and strings. They have an __iter__() method that returns an iterator object.\n",
    "\n",
    "Iterators, on the other hand, are objects that keep track of their position in an iterable and allow you to iterate over it one element at a time. They have a __next__() method that returns the next element in the sequence.\n",
    "\n",
    "The key differences between iterables and iterators are:\n",
    "\n",
    "- Iterables are the objects being iterated over, while iterators are the objects doing the iterating.\n",
    "- Iterables have an __iter__() method, while iterators have a __next__() method.\n",
    "- Iterables can be iterated over multiple times, while iterators can only be iterated over once.\n",
    "\n",
    "\n",
    "Here's an example to illustrate the difference:\n",
    "\n"
   ]
  },
  {
   "cell_type": "code",
   "execution_count": 129,
   "id": "1e67759a-f3ef-47ff-a0af-ff280a13b677",
   "metadata": {},
   "outputs": [
    {
     "name": "stdout",
     "output_type": "stream",
     "text": [
      "1\n",
      "2\n",
      "3\n"
     ]
    }
   ],
   "source": [
    "my_list = [1, 2, 3]  # my_list is an iterable\n",
    "\n",
    "my_iter = iter(my_list)  # my_iter is an iterator\n",
    "\n",
    "print(next(my_iter))  # prints 1\n",
    "print(next(my_iter))  # prints 2\n",
    "print(next(my_iter))  # prints 3\n"
   ]
  },
  {
   "cell_type": "markdown",
   "id": "523d5bda-b441-4f2e-85a3-3ec657da9c05",
   "metadata": {},
   "source": [
    "In this example, my_list is an iterable, and my_iter is an iterator created from my_list. The next() function is used to retrieve the next element from the iterator.\n",
    "\n",
    "Remember, iterables are the data, while iterators are the objects that help you access that data one element at a time."
   ]
  },
  {
   "cell_type": "markdown",
   "id": "bb14d2fc-1a6d-456d-9eff-2725ff7f48ae",
   "metadata": {},
   "source": [
    "## 6. Explain the concept of generators in Python and how they are defined"
   ]
  },
  {
   "cell_type": "markdown",
   "id": "fd792db1-a42c-4780-8ac0-73ab4b34f5f5",
   "metadata": {},
   "source": [
    "#### Generators in Python are a type of iterable, like lists or tuples, but they don't store all the values in memory at once. Instead, they generate values on-the-fly as you iterate over them. This makes them memory-efficient and useful for handling large datasets. A generator is defined using a function with the yield keyword instead of return. When a generator function is called, it returns a generator object, which can be iterated over using a for loop or the next() function.\n",
    "\n",
    "Example of a simple generator:\n"
   ]
  },
  {
   "cell_type": "code",
   "execution_count": 137,
   "id": "a9e08413-6204-4b54-a53b-6176dd1104b7",
   "metadata": {},
   "outputs": [
    {
     "name": "stdout",
     "output_type": "stream",
     "text": [
      "0\n",
      "1\n",
      "2\n"
     ]
    }
   ],
   "source": [
    "def infinite_sequence():\n",
    "    num = 0\n",
    "    while True:\n",
    "        yield num\n",
    "        num += 1\n",
    "        \n",
    "gen = infinite_sequence()\n",
    "print(next(gen))  # prints 0\n",
    "print(next(gen))  # prints 1\n",
    "print(next(gen))  # prints 2\n"
   ]
  },
  {
   "cell_type": "markdown",
   "id": "259b7d22-1f54-421e-9d0d-240780dd29d5",
   "metadata": {},
   "source": [
    "## 7. What are the advantages of using generators over regular functions ?"
   ]
  },
  {
   "cell_type": "markdown",
   "id": "9ad64ff3-25d6-4ebe-a7b3-4b3fbe550c22",
   "metadata": {},
   "source": [
    "#### Physical advantages of using generators over regular functions:\n",
    "\n",
    "i. Memory Efficiency: \n",
    "Generators don't store all values in memory at once, making them ideal for handling large datasets.\n",
    "\n",
    "ii. Lazy Evaluation: \n",
    "Values are generated only when needed, reducing computation time and resources.\n",
    "\n",
    "iii. Flexibility: \n",
    "Generators can implement complex iteration logic and handle infinite sequences.\n",
    "\n",
    "iv. Improved Performance: \n",
    "Generators can perform better than regular functions for large datasets.\n",
    "\n",
    "v. Simplified Code:\n",
    "Generators can simplify code by eliminating the need for complex iteration logic.\n",
    "\n",
    "vi. On-the-fly Generation: \n",
    " Generators can generate values on-the-fly, reducing the need for pre-computation.\n",
    "\n",
    "vii. Cooperative Multitasking: \n",
    "Generators can be used to implement cooperative multitasking.\n",
    "\n",
    "viii. Reduced Memory Footprint: \n",
    "Generators can reduce the memory footprint of your program.\n",
    "\n",
    "ix. Faster Execution: \n",
    "Generators can execute faster than regular functions for large datasets.\n",
    "\n",
    "x. Easier Debugging: \n",
    "Generators can make debugging easier by allowing you to inspect generated values.\n",
    "\n",
    "\n",
    "By using generators, we can write more efficient, flexible, and scalable code, especially when working with large datasets or complex iteration logic\n"
   ]
  },
  {
   "cell_type": "markdown",
   "id": "fb0a3836-2830-41f4-8475-76a8c764ce03",
   "metadata": {},
   "source": [
    "## 8. What is a lambda function in Python and when is it typically used ?"
   ]
  },
  {
   "cell_type": "markdown",
   "id": "c61c83b9-31ec-45fa-90b0-75c4018d2d42",
   "metadata": {},
   "source": [
    "#### In Python, a lambda function is a small, anonymous function that can take any number of arguments, but can only have one expression. It's typically used when you need a short, one-time use function, and don't want to declare a full-fledged function with the def keyword.\n",
    "\n",
    "The general syntax of a lambda function is:\n",
    "\n",
    "lambda arguments: expression\n"
   ]
  },
  {
   "cell_type": "code",
   "execution_count": 151,
   "id": "f8884080-5192-4274-bd3b-b6626cadf60e",
   "metadata": {},
   "outputs": [
    {
     "name": "stdout",
     "output_type": "stream",
     "text": [
      "8\n"
     ]
    }
   ],
   "source": [
    "#Here's an example:\n",
    "\n",
    "add_five = lambda x: x + 5\n",
    "print(add_five(3))  # Output: 8\n"
   ]
  },
  {
   "cell_type": "markdown",
   "id": "16e1c1f3-3c98-48a5-a058-c018c675858b",
   "metadata": {},
   "source": [
    "#### Lambda functions are often used in situations like:\n",
    "\n",
    "i. Event handling: When you need a small function to handle an event, like a button click.\n",
    "\n",
    "ii. Data processing: When you need to perform a simple transformation on data, like converting strings to uppercase.\n",
    "\n",
    "iii. Sorting and filtering: When you need to sort or filter a list based on a simple condition.\n",
    "\n",
    "iv. Higher-order functions: When you need to pass a function as an argument to another function, like map(), filter(), or reduce().\n",
    "\n",
    "*Lambda functions are a powerful tool in Python, ideal for short, one-time use cases, but not suitable for complex logic or reusable functions.*\n"
   ]
  },
  {
   "cell_type": "markdown",
   "id": "d3d40ba1-0631-4490-8d0d-d12a6f220199",
   "metadata": {},
   "source": [
    "## 9. Explain the purpose and usage of the `map()` function in Python."
   ]
  },
  {
   "cell_type": "markdown",
   "id": "d15b8808-0e1e-4850-acc0-196e854ec05e",
   "metadata": {},
   "source": [
    "#### The map() function in Python is a built-in function that applies a given function to each item of an iterable (like a list, tuple, or string) and returns a new iterable with the results.\n",
    "\n",
    "Purpose:\n",
    "\n",
    "- To transform or process each element of an iterable in a concise way.\n",
    "- To avoid explicit loops and make code more readable.\n",
    "\n",
    "\n",
    "Usage:\n",
    "\n",
    "map(function, iterable)\n",
    "\n",
    "- function is the function to apply to each element.\n",
    "- iterable is the list, tuple, string, or other iterable to process.\n",
    "\n",
    "\n"
   ]
  },
  {
   "cell_type": "code",
   "execution_count": 164,
   "id": "6f6fd80b-78b3-41ba-a9e7-ff12f3b82d12",
   "metadata": {},
   "outputs": [
    {
     "name": "stdout",
     "output_type": "stream",
     "text": [
      "[1, 4, 9, 16, 25]\n"
     ]
    }
   ],
   "source": [
    "def square(x):\n",
    "    return x ** 2\n",
    "\n",
    "numbers = [1, 2, 3, 4, 5]\n",
    "squared_numbers = list(map(square, numbers))\n",
    "print(squared_numbers)  # Output: [1, 4, 9, 16, 25]\n"
   ]
  },
  {
   "cell_type": "markdown",
   "id": "4b67d8ca-8dac-4b78-a67f-bb9cfc51616d",
   "metadata": {},
   "source": [
    "####  \n",
    "In this example, the square function is applied to each element of the numbers list, and the results are collected in a new list squared_numbers"
   ]
  },
  {
   "cell_type": "markdown",
   "id": "8c560693-3eb8-43e0-a1ef-d305cb05ea38",
   "metadata": {},
   "source": [
    "#### Common use cases:\n",
    "\n",
    "- Data transformation: Convert data types, perform calculations, or extract information.\n",
    "- String processing: Convert strings to uppercase, lowercase, or title case.\n",
    "- Mathematical operations: Apply mathematical functions to numerical data.\n"
   ]
  },
  {
   "cell_type": "markdown",
   "id": "d63ed9d5-4597-4273-a22b-d6ba6cfbe3dc",
   "metadata": {},
   "source": [
    "## 10. What is the difference between `map()`, `reduce()`, and `filter()` functions in Python?"
   ]
  },
  {
   "cell_type": "markdown",
   "id": "7cc40518-124c-4044-a142-6f9d53197c96",
   "metadata": {},
   "source": [
    "#### map(), reduce(), and filter() are three fundamental functions in Python's functional programming toolkit. Here's a brief overview of each:\n",
    "\n",
    "1. map(function, iterable):\n",
    "    - Applies a given function to each element of an iterable (like a list, tuple, or string).\n",
    "    - Returns a new iterable with the results.\n",
    "    - Purpose: Transform or process each element.\n",
    "2. reduce(function, iterable):\n",
    "    - Applies a given function to the first two elements of an iterable, then to the result and the next element, and so on.\n",
    "    - Returns a single output value.\n",
    "    - Purpose: Aggregate or combine elements into a single value.\n",
    "3. filter(function, iterable):\n",
    "    - Applies a given function to each element of an iterable.\n",
    "    - Returns a new iterable with only the elements for which the function returns True.\n",
    "    - Purpose: Select or filter elements based on a condition.\n",
    "\n",
    "Key differences:\n",
    "\n",
    "- map() transforms elements, reduce() aggregates elements, and filter() selects elements.\n",
    "- map() and filter() return iterables, while reduce() returns a single value.\n",
    "- map() and filter() are often used for element-wise operations, while reduce() is used for cumulative operations.\n"
   ]
  },
  {
   "cell_type": "markdown",
   "id": "ffbb9b96-ca0d-437b-8fa3-6334e6d465d8",
   "metadata": {},
   "source": [
    "#### \n",
    "Here's an example to illustrate the differences:\n",
    "\n",
    "numbers = [1, 2, 3, 4, 5]\n"
   ]
  },
  {
   "cell_type": "code",
   "execution_count": 180,
   "id": "6decec99-f77c-4131-9006-00ae5964e844",
   "metadata": {},
   "outputs": [
    {
     "name": "stdout",
     "output_type": "stream",
     "text": [
      "[2, 4]\n"
     ]
    }
   ],
   "source": [
    "# filter(): Keep only even numbers\n",
    "even_numbers = list(filter(lambda x: x % 2 == 0, numbers))\n",
    "print(even_numbers)  # [2, 4]\n"
   ]
  },
  {
   "cell_type": "code",
   "execution_count": 178,
   "id": "255b6cbe-243e-4a94-abc8-d3f79ed48dde",
   "metadata": {
    "tags": []
   },
   "outputs": [
    {
     "name": "stdout",
     "output_type": "stream",
     "text": [
      "15\n"
     ]
    }
   ],
   "source": [
    "# reduce(): Calculate the sum of numbers\n",
    "from functools import reduce\n",
    "sum_numbers = reduce(lambda x, y: x + y, numbers)\n",
    "print(sum_numbers)  # 15"
   ]
  },
  {
   "cell_type": "markdown",
   "id": "4d534257-9184-4e9f-8e2c-1368a1847e91",
   "metadata": {},
   "source": [
    "#### In summary:\n",
    "\n",
    "- map() transforms elements.\n",
    "- filter() selects elements.\n",
    "- reduce() aggregates elements.\n",
    "\n",
    "These functions can be combined and used in creative ways to solve complex problems in a concise and readable manner."
   ]
  },
  {
   "cell_type": "markdown",
   "id": "af553278-33f9-4d24-8eb5-d3e9b4bbcffd",
   "metadata": {},
   "source": [
    "## 11. Using pen and paper write the internal mechanism for some operation using reduce function on this given list [ 47, 11, 42, 13]"
   ]
  },
  {
   "cell_type": "markdown",
   "id": "f264da25-3966-4848-90bb-754ad31359d7",
   "metadata": {},
   "source": [
    "https://docs.google.com/document/d/11OXi5QbWyv0bJreKXzza2TbvtRr956FTSJLUig_M8fw/edit?usp=sharing"
   ]
  }
 ],
 "metadata": {
  "kernelspec": {
   "display_name": "Python 3 (ipykernel)",
   "language": "python",
   "name": "python3"
  },
  "language_info": {
   "codemirror_mode": {
    "name": "ipython",
    "version": 3
   },
   "file_extension": ".py",
   "mimetype": "text/x-python",
   "name": "python",
   "nbconvert_exporter": "python",
   "pygments_lexer": "ipython3",
   "version": "3.10.8"
  }
 },
 "nbformat": 4,
 "nbformat_minor": 5
}
